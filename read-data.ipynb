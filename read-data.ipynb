{
 "metadata": {
  "language_info": {
   "codemirror_mode": {
    "name": "ipython",
    "version": 3
   },
   "file_extension": ".py",
   "mimetype": "text/x-python",
   "name": "python",
   "nbconvert_exporter": "python",
   "pygments_lexer": "ipython3",
   "version": "3.7.9-final"
  },
  "orig_nbformat": 2,
  "kernelspec": {
   "name": "python3",
   "display_name": "Python 3.7.9 64-bit",
   "metadata": {
    "interpreter": {
     "hash": "875e79b6ccb2f60df2b9ec60a4c5d779b7b6e2f69feda1fbe977ccb6d9da1d96"
    }
   }
  }
 },
 "nbformat": 4,
 "nbformat_minor": 2,
 "cells": [
  {
   "cell_type": "code",
   "execution_count": 1,
   "metadata": {},
   "outputs": [
    {
     "output_type": "stream",
     "name": "stdout",
     "text": [
      "0       6\n1       6\n2      10\n3      15\n4      10\n       ..\n644    10\n645    16\n646     9\n647    10\n648    11\nName: G3, Length: 1044, dtype: int64\n"
     ]
    }
   ],
   "source": [
    "import pandas as pd\n",
    "import numpy as np\n",
    "\n",
    "df_mat = pd.read_csv('student-mat.csv')\n",
    "df_por = pd.read_csv('student-por.csv')\n",
    "\n",
    "df = pd.concat([df_mat,df_por])\n",
    "\n",
    "from sklearn.tree import DecisionTreeClassifier\n",
    "from sklearn.tree import DecisionTreeRegressor\n",
    "from sklearn.model_selection import train_test_split\n",
    "from sklearn.metrics import accuracy_score\n",
    "from sklearn.preprocessing import LabelEncoder \n",
    "train_test_split\n",
    "lb = LabelEncoder()\n",
    "\n",
    "df.loc[df['G3'] >= 10, 'label'] = 'Pass'\n",
    "df.loc[df['G3'] < 10, 'label'] = 'Fail'\n",
    "\n",
    "df.iloc[:,0] = lb.fit_transform(df.iloc[:,0])\n",
    "df.iloc[:,1] = lb.fit_transform(df.iloc[:,1])\n",
    "df.iloc[:,2] = lb.fit_transform(df.iloc[:,2])\n",
    "df.iloc[:,3] = lb.fit_transform(df.iloc[:,3])\n",
    "df.iloc[:,4] = lb.fit_transform(df.iloc[:,4])\n",
    "df.iloc[:,5] = lb.fit_transform(df.iloc[:,5])\n",
    "df.iloc[:,8] = lb.fit_transform(df.iloc[:,8])\n",
    "df.iloc[:,9] = lb.fit_transform(df.iloc[:,9])\n",
    "df.iloc[:,10] = lb.fit_transform(df.iloc[:,10])\n",
    "df.iloc[:,11] = lb.fit_transform(df.iloc[:,11])\n",
    "df.iloc[:,15] = lb.fit_transform(df.iloc[:,15])\n",
    "df.iloc[:,16] = lb.fit_transform(df.iloc[:,16])\n",
    "df.iloc[:,17] = lb.fit_transform(df.iloc[:,17])\n",
    "df.iloc[:,18] = lb.fit_transform(df.iloc[:,18])\n",
    "df.iloc[:,19] = lb.fit_transform(df.iloc[:,19])\n",
    "df.iloc[:,20] = lb.fit_transform(df.iloc[:,20])\n",
    "df.iloc[:,21] = lb.fit_transform(df.iloc[:,21])\n",
    "df.iloc[:,22] = lb.fit_transform(df.iloc[:,22])\n",
    "df.iloc[:,33] = lb.fit_transform(df.iloc[:,33])\n",
    "print(df['G3'])\n",
    "df = df.drop('G3',1)\n",
    "df = df.drop('address',1)\n",
    "label = df.iloc[:,-1]\n",
    "df_data = df.iloc[:,:-1]"
   ]
  },
  {
   "cell_type": "code",
   "execution_count": 2,
   "metadata": {},
   "outputs": [
    {
     "output_type": "stream",
     "name": "stdout",
     "text": [
      "545    0\n373    1\n221    0\n189    1\n597    0\n      ..\n443    0\n337    0\n433    1\n625    1\n314    1\nName: label, Length: 835, dtype: int32\n====================\n456    1\n450    1\n154    1\n306    1\n551    1\n      ..\n101    1\n283    1\n645    1\n13     1\n302    1\nName: label, Length: 209, dtype: int32\n"
     ]
    }
   ],
   "source": [
    "X_train, X_test, y_train, y_test = train_test_split(df_data, label, test_size=0.2)\n",
    "print(y_train)\n",
    "print('====================')\n",
    "print(y_test)\n"
   ]
  },
  {
   "cell_type": "code",
   "execution_count": 3,
   "metadata": {},
   "outputs": [
    {
     "output_type": "execute_result",
     "data": {
      "text/plain": [
       "' dt = DecisionTreeClassifier(criterion=\"entropy\", max_depth=3)\\nmodel = dt.fit(X_train,y_train)\\nresult = model.predict(X_test)\\npercent_success = accuracy_score(y_test,result)\\npercent_success '"
      ]
     },
     "metadata": {},
     "execution_count": 3
    }
   ],
   "source": [
    "\"\"\" dt = DecisionTreeClassifier(criterion=\"entropy\", max_depth=3)\n",
    "model = dt.fit(X_train,y_train)\n",
    "result = model.predict(X_test)\n",
    "percent_success = accuracy_score(y_test,result)\n",
    "percent_success \"\"\""
   ]
  },
  {
   "cell_type": "code",
   "execution_count": 4,
   "metadata": {},
   "outputs": [
    {
     "output_type": "execute_result",
     "data": {
      "text/plain": [
       "0.8947368421052632"
      ]
     },
     "metadata": {},
     "execution_count": 4
    }
   ],
   "source": [
    "dt = DecisionTreeRegressor()\n",
    "model = dt.fit(X_train,y_train)\n",
    "result = model.predict(X_test)\n",
    "percent_success = accuracy_score(y_test,result)\n",
    "percent_success"
   ]
  },
  {
   "cell_type": "code",
   "execution_count": 5,
   "metadata": {},
   "outputs": [
    {
     "output_type": "stream",
     "name": "stdout",
     "text": [
      "Classification Report:\n              precision    recall  f1-score   support\n\n           0       0.68      0.79      0.73        38\n           1       0.95      0.92      0.93       171\n\n    accuracy                           0.89       209\n   macro avg       0.82      0.85      0.83       209\nweighted avg       0.90      0.89      0.90       209\n\n"
     ]
    }
   ],
   "source": [
    "from sklearn.metrics import classification_report\n",
    "from sklearn import metrics\n",
    "pd = model.predict(X_test)\n",
    "\n",
    "result1 = metrics.classification_report(y_test, pd)\n",
    "print(\"Classification Report:\",)\n",
    "print (result1)"
   ]
  },
  {
   "cell_type": "code",
   "execution_count": null,
   "metadata": {},
   "outputs": [],
   "source": []
  }
 ]
}